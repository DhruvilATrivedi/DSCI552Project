{
  "nbformat": 4,
  "nbformat_minor": 0,
  "metadata": {
    "colab": {
      "name": "Project_baseline.ipynb",
      "provenance": []
    },
    "kernelspec": {
      "name": "python3",
      "display_name": "Python 3"
    },
    "language_info": {
      "name": "python"
    }
  },
  "cells": [
    {
      "cell_type": "code",
      "metadata": {
        "id": "e8Y2oRMiqH3H"
      },
      "source": [
        "#Importing necessary libraries\n",
        "import pandas as pd\n",
        "import numpy as np\n",
        "import matplotlib.pyplot as plt\n",
        "import tensorflow\n",
        "from keras.callbacks import EarlyStopping"
      ],
      "execution_count": 1,
      "outputs": []
    },
    {
      "cell_type": "code",
      "metadata": {
        "id": "sgM9-i9BrJq-"
      },
      "source": [
        "#Importing MNIST dataset from tensorflow keras\n",
        "(trainval_x, trainval_y), (test_x, test_y) = tensorflow.keras.datasets.mnist.load_data()"
      ],
      "execution_count": 2,
      "outputs": []
    },
    {
      "cell_type": "code",
      "metadata": {
        "colab": {
          "base_uri": "https://localhost:8080/",
          "height": 245
        },
        "id": "ecTfMq7MrKUb",
        "outputId": "023586f7-e203-4047-cdc1-e6113115926b"
      },
      "source": [
        "#Plotting certain images from the dataset\n",
        "fig, axes = plt.subplots(1, 3, figsize = (12, 4))\n",
        "axes[0].imshow(trainval_x[9])\n",
        "axes[1].imshow(trainval_x[16])\n",
        "axes[2].imshow(trainval_x[27])\n",
        "plt.show()"
      ],
      "execution_count": 3,
      "outputs": [
        {
          "output_type": "display_data",
          "data": {
            "image/png": "[encoded data removed]",
            "text/plain": [
              "<Figure size 864x288 with 3 Axes>"
            ]
          },
          "metadata": {
            "tags": [],
            "needs_background": "light"
          }
        }
      ]
    },
    {
      "cell_type": "code",
      "metadata": {
        "colab": {
          "base_uri": "https://localhost:8080/"
        },
        "id": "ejmoHb_-rM7N",
        "outputId": "d03ba8a6-ae17-4bd2-eb6e-3ecc45795caf"
      },
      "source": [
        "#Converting the data from utf-8 format to float format\n",
        "trainval_x = np.float32(trainval_x)\n",
        "trainval_x"
      ],
      "execution_count": 4,
      "outputs": [
        {
          "output_type": "execute_result",
          "data": {
            "text/plain": [
              "array([[[0., 0., 0., ..., 0., 0., 0.],\n",
              "        [0., 0., 0., ..., 0., 0., 0.],\n",
              "        [0., 0., 0., ..., 0., 0., 0.],\n",
              "        ...,\n",
              "        [0., 0., 0., ..., 0., 0., 0.],\n",
              "        [0., 0., 0., ..., 0., 0., 0.],\n",
              "        [0., 0., 0., ..., 0., 0., 0.]],\n",
              "\n",
              "       [[0., 0., 0., ..., 0., 0., 0.],\n",
              "        [0., 0., 0., ..., 0., 0., 0.],\n",
              "        [0., 0., 0., ..., 0., 0., 0.],\n",
              "        ...,\n",
              "        [0., 0., 0., ..., 0., 0., 0.],\n",
              "        [0., 0., 0., ..., 0., 0., 0.],\n",
              "        [0., 0., 0., ..., 0., 0., 0.]],\n",
              "\n",
              "       [[0., 0., 0., ..., 0., 0., 0.],\n",
              "        [0., 0., 0., ..., 0., 0., 0.],\n",
              "        [0., 0., 0., ..., 0., 0., 0.],\n",
              "        ...,\n",
              "        [0., 0., 0., ..., 0., 0., 0.],\n",
              "        [0., 0., 0., ..., 0., 0., 0.],\n",
              "        [0., 0., 0., ..., 0., 0., 0.]],\n",
              "\n",
              "       ...,\n",
              "\n",
              "       [[0., 0., 0., ..., 0., 0., 0.],\n",
              "        [0., 0., 0., ..., 0., 0., 0.],\n",
              "        [0., 0., 0., ..., 0., 0., 0.],\n",
              "        ...,\n",
              "        [0., 0., 0., ..., 0., 0., 0.],\n",
              "        [0., 0., 0., ..., 0., 0., 0.],\n",
              "        [0., 0., 0., ..., 0., 0., 0.]],\n",
              "\n",
              "       [[0., 0., 0., ..., 0., 0., 0.],\n",
              "        [0., 0., 0., ..., 0., 0., 0.],\n",
              "        [0., 0., 0., ..., 0., 0., 0.],\n",
              "        ...,\n",
              "        [0., 0., 0., ..., 0., 0., 0.],\n",
              "        [0., 0., 0., ..., 0., 0., 0.],\n",
              "        [0., 0., 0., ..., 0., 0., 0.]],\n",
              "\n",
              "       [[0., 0., 0., ..., 0., 0., 0.],\n",
              "        [0., 0., 0., ..., 0., 0., 0.],\n",
              "        [0., 0., 0., ..., 0., 0., 0.],\n",
              "        ...,\n",
              "        [0., 0., 0., ..., 0., 0., 0.],\n",
              "        [0., 0., 0., ..., 0., 0., 0.],\n",
              "        [0., 0., 0., ..., 0., 0., 0.]]], dtype=float32)"
            ]
          },
          "metadata": {
            "tags": []
          },
          "execution_count": 4
        }
      ]
    },
    {
      "cell_type": "code",
      "metadata": {
        "colab": {
          "base_uri": "https://localhost:8080/"
        },
        "id": "g500foebrRn8",
        "outputId": "7ec2baf7-54dc-49e8-c094-f54a8b759c61"
      },
      "source": [
        "#Converting the test data from utf-8 format to float format\n",
        "test_x = np.float32(test_x)\n",
        "test_x"
      ],
      "execution_count": 5,
      "outputs": [
        {
          "output_type": "execute_result",
          "data": {
            "text/plain": [
              "array([[[0., 0., 0., ..., 0., 0., 0.],\n",
              "        [0., 0., 0., ..., 0., 0., 0.],\n",
              "        [0., 0., 0., ..., 0., 0., 0.],\n",
              "        ...,\n",
              "        [0., 0., 0., ..., 0., 0., 0.],\n",
              "        [0., 0., 0., ..., 0., 0., 0.],\n",
              "        [0., 0., 0., ..., 0., 0., 0.]],\n",
              "\n",
              "       [[0., 0., 0., ..., 0., 0., 0.],\n",
              "        [0., 0., 0., ..., 0., 0., 0.],\n",
              "        [0., 0., 0., ..., 0., 0., 0.],\n",
              "        ...,\n",
              "        [0., 0., 0., ..., 0., 0., 0.],\n",
              "        [0., 0., 0., ..., 0., 0., 0.],\n",
              "        [0., 0., 0., ..., 0., 0., 0.]],\n",
              "\n",
              "       [[0., 0., 0., ..., 0., 0., 0.],\n",
              "        [0., 0., 0., ..., 0., 0., 0.],\n",
              "        [0., 0., 0., ..., 0., 0., 0.],\n",
              "        ...,\n",
              "        [0., 0., 0., ..., 0., 0., 0.],\n",
              "        [0., 0., 0., ..., 0., 0., 0.],\n",
              "        [0., 0., 0., ..., 0., 0., 0.]],\n",
              "\n",
              "       ...,\n",
              "\n",
              "       [[0., 0., 0., ..., 0., 0., 0.],\n",
              "        [0., 0., 0., ..., 0., 0., 0.],\n",
              "        [0., 0., 0., ..., 0., 0., 0.],\n",
              "        ...,\n",
              "        [0., 0., 0., ..., 0., 0., 0.],\n",
              "        [0., 0., 0., ..., 0., 0., 0.],\n",
              "        [0., 0., 0., ..., 0., 0., 0.]],\n",
              "\n",
              "       [[0., 0., 0., ..., 0., 0., 0.],\n",
              "        [0., 0., 0., ..., 0., 0., 0.],\n",
              "        [0., 0., 0., ..., 0., 0., 0.],\n",
              "        ...,\n",
              "        [0., 0., 0., ..., 0., 0., 0.],\n",
              "        [0., 0., 0., ..., 0., 0., 0.],\n",
              "        [0., 0., 0., ..., 0., 0., 0.]],\n",
              "\n",
              "       [[0., 0., 0., ..., 0., 0., 0.],\n",
              "        [0., 0., 0., ..., 0., 0., 0.],\n",
              "        [0., 0., 0., ..., 0., 0., 0.],\n",
              "        ...,\n",
              "        [0., 0., 0., ..., 0., 0., 0.],\n",
              "        [0., 0., 0., ..., 0., 0., 0.],\n",
              "        [0., 0., 0., ..., 0., 0., 0.]]], dtype=float32)"
            ]
          },
          "metadata": {
            "tags": []
          },
          "execution_count": 5
        }
      ]
    },
    {
      "cell_type": "code",
      "metadata": {
        "colab": {
          "base_uri": "https://localhost:8080/"
        },
        "id": "3nszjHENrTrn",
        "outputId": "035456c4-4287-44e0-b448-2e55312f57aa"
      },
      "source": [
        "#Creating a validation set from the train dataset\n",
        "from sklearn.model_selection import train_test_split\n",
        "train_x, val_x, train_y, val_y = train_test_split(trainval_x, trainval_y, test_size = 0.2, random_state = 42)\n",
        "train_x.shape, val_x.shape, test_x.shape, train_y.shape, val_y.shape, test_y.shape"
      ],
      "execution_count": 6,
      "outputs": [
        {
          "output_type": "execute_result",
          "data": {
            "text/plain": [
              "((48000, 28, 28),\n",
              " (12000, 28, 28),\n",
              " (10000, 28, 28),\n",
              " (48000,),\n",
              " (12000,),\n",
              " (10000,))"
            ]
          },
          "metadata": {
            "tags": []
          },
          "execution_count": 6
        }
      ]
    },
    {
      "cell_type": "markdown",
      "metadata": {
        "id": "yC6vnptZig7b"
      },
      "source": [
        "###**Model Training**"
      ]
    },
    {
      "cell_type": "code",
      "metadata": {
        "id": "hnUYWVvSGCQN",
        "colab": {
          "base_uri": "https://localhost:8080/"
        },
        "outputId": "6d70bd5b-9d2e-4d36-cf63-032d07f22296"
      },
      "source": [
        "#Creating a neural network model with dense layers\n",
        "nn_model = tensorflow.keras.Sequential([\n",
        "    tensorflow.keras.layers.Flatten(input_shape = (28, 28)),\n",
        "    tensorflow.keras.layers.Dense(128, activation='relu'),\n",
        "    tensorflow.keras.layers.Dense(64, activation='relu'),\n",
        "    tensorflow.keras.layers.Dense(32, activation='relu'),\n",
        "    tensorflow.keras.layers.Dense(10)\n",
        "])\n",
        "nn_model.summary()"
      ],
      "execution_count": 7,
      "outputs": [
        {
          "output_type": "stream",
          "text": [
            "Model: \"sequential\"\n",
            "_________________________________________________________________\n",
            "Layer (type)                 Output Shape              Param #   \n",
            "=================================================================\n",
            "flatten (Flatten)            (None, 784)               0         \n",
            "_________________________________________________________________\n",
            "dense (Dense)                (None, 128)               100480    \n",
            "_________________________________________________________________\n",
            "dense_1 (Dense)              (None, 64)                8256      \n",
            "_________________________________________________________________\n",
            "dense_2 (Dense)              (None, 32)                2080      \n",
            "_________________________________________________________________\n",
            "dense_3 (Dense)              (None, 10)                330       \n",
            "=================================================================\n",
            "Total params: 111,146\n",
            "Trainable params: 111,146\n",
            "Non-trainable params: 0\n",
            "_________________________________________________________________\n"
          ],
          "name": "stdout"
        }
      ]
    },
    {
      "cell_type": "code",
      "metadata": {
        "colab": {
          "base_uri": "https://localhost:8080/"
        },
        "id": "9OlEsL7RGCNo",
        "outputId": "5a367617-5299-4e60-e284-d09fa41bd97e"
      },
      "source": [
        "#Compiling the model\n",
        "nn_model.compile(optimizer='adam', loss = tensorflow.keras.losses.SparseCategoricalCrossentropy(from_logits=True), metrics='accuracy')\n",
        "nn_model.summary()"
      ],
      "execution_count": 8,
      "outputs": [
        {
          "output_type": "stream",
          "text": [
            "Model: \"sequential\"\n",
            "_________________________________________________________________\n",
            "Layer (type)                 Output Shape              Param #   \n",
            "=================================================================\n",
            "flatten (Flatten)            (None, 784)               0         \n",
            "_________________________________________________________________\n",
            "dense (Dense)                (None, 128)               100480    \n",
            "_________________________________________________________________\n",
            "dense_1 (Dense)              (None, 64)                8256      \n",
            "_________________________________________________________________\n",
            "dense_2 (Dense)              (None, 32)                2080      \n",
            "_________________________________________________________________\n",
            "dense_3 (Dense)              (None, 10)                330       \n",
            "=================================================================\n",
            "Total params: 111,146\n",
            "Trainable params: 111,146\n",
            "Non-trainable params: 0\n",
            "_________________________________________________________________\n"
          ],
          "name": "stdout"
        }
      ]
    },
    {
      "cell_type": "code",
      "metadata": {
        "colab": {
          "base_uri": "https://localhost:8080/"
        },
        "id": "ivutvKmzJknV",
        "outputId": "4cd905d3-7b01-47c8-f9ef-4dc54a5867bf"
      },
      "source": [
        "#Fitting the model over the data with early stopping and storing the loss and accuracy values\n",
        "history = nn_model.fit(train_x, train_y,\n",
        "                       epochs=100, \n",
        "                       validation_data=(val_x, val_y), \n",
        "                       callbacks = [EarlyStopping(monitor='val_loss', mode='min', verbose=1, patience=5)])"
      ],
      "execution_count": 9,
      "outputs": [
        {
          "output_type": "stream",
          "text": [
            "Epoch 1/100\n",
            "1500/1500 [==============================] - 5s 3ms/step - loss: 3.2356 - accuracy: 0.7602 - val_loss: 0.3084 - val_accuracy: 0.9218\n",
            "Epoch 2/100\n",
            "1500/1500 [==============================] - 4s 3ms/step - loss: 0.2722 - accuracy: 0.9281 - val_loss: 0.2638 - val_accuracy: 0.9287\n",
            "Epoch 3/100\n",
            "1500/1500 [==============================] - 4s 2ms/step - loss: 0.1900 - accuracy: 0.9462 - val_loss: 0.1957 - val_accuracy: 0.9444\n",
            "Epoch 4/100\n",
            "1500/1500 [==============================] - 4s 2ms/step - loss: 0.1521 - accuracy: 0.9563 - val_loss: 0.1755 - val_accuracy: 0.9528\n",
            "Epoch 5/100\n",
            "1500/1500 [==============================] - 4s 3ms/step - loss: 0.1304 - accuracy: 0.9623 - val_loss: 0.1728 - val_accuracy: 0.9519\n",
            "Epoch 6/100\n",
            "1500/1500 [==============================] - 4s 2ms/step - loss: 0.1130 - accuracy: 0.9670 - val_loss: 0.1538 - val_accuracy: 0.9596\n",
            "Epoch 7/100\n",
            "1500/1500 [==============================] - 4s 3ms/step - loss: 0.0905 - accuracy: 0.9739 - val_loss: 0.1707 - val_accuracy: 0.9558\n",
            "Epoch 8/100\n",
            "1500/1500 [==============================] - 4s 3ms/step - loss: 0.0882 - accuracy: 0.9742 - val_loss: 0.1240 - val_accuracy: 0.9672\n",
            "Epoch 9/100\n",
            "1500/1500 [==============================] - 4s 3ms/step - loss: 0.0756 - accuracy: 0.9774 - val_loss: 0.1405 - val_accuracy: 0.9634\n",
            "Epoch 10/100\n",
            "1500/1500 [==============================] - 4s 3ms/step - loss: 0.0691 - accuracy: 0.9800 - val_loss: 0.1371 - val_accuracy: 0.9688\n",
            "Epoch 11/100\n",
            "1500/1500 [==============================] - 4s 3ms/step - loss: 0.0674 - accuracy: 0.9809 - val_loss: 0.1442 - val_accuracy: 0.9659\n",
            "Epoch 12/100\n",
            "1500/1500 [==============================] - 4s 2ms/step - loss: 0.0582 - accuracy: 0.9833 - val_loss: 0.1415 - val_accuracy: 0.9659\n",
            "Epoch 13/100\n",
            "1500/1500 [==============================] - 4s 2ms/step - loss: 0.0528 - accuracy: 0.9840 - val_loss: 0.1427 - val_accuracy: 0.9698\n",
            "Epoch 00013: early stopping\n"
          ],
          "name": "stdout"
        }
      ]
    },
    {
      "cell_type": "code",
      "metadata": {
        "colab": {
          "base_uri": "https://localhost:8080/"
        },
        "id": "rvq7t09fLLyl",
        "outputId": "06bd355d-a8bf-4d45-8ba1-8add8d715759"
      },
      "source": [
        "#Printing the values loss and accuracy values of train and validation dataset\n",
        "history.history"
      ],
      "execution_count": 10,
      "outputs": [
        {
          "output_type": "execute_result",
          "data": {
            "text/plain": [
              "{'accuracy': [0.8460000157356262,\n",
              "  0.9294583201408386,\n",
              "  0.9458749890327454,\n",
              "  0.9562291502952576,\n",
              "  0.9613749980926514,\n",
              "  0.9653124809265137,\n",
              "  0.9712083339691162,\n",
              "  0.9742083549499512,\n",
              "  0.976520836353302,\n",
              "  0.9782083630561829,\n",
              "  0.9803541898727417,\n",
              "  0.9818333387374878,\n",
              "  0.9827499985694885],\n",
              " 'loss': [1.1484341621398926,\n",
              "  0.26697272062301636,\n",
              "  0.19009189307689667,\n",
              "  0.1552172303199768,\n",
              "  0.1369609236717224,\n",
              "  0.11892452836036682,\n",
              "  0.10376472026109695,\n",
              "  0.08874675631523132,\n",
              "  0.0826866626739502,\n",
              "  0.0757329985499382,\n",
              "  0.06938254088163376,\n",
              "  0.0643245056271553,\n",
              "  0.058870673179626465],\n",
              " 'val_accuracy': [0.921750009059906,\n",
              "  0.9287499785423279,\n",
              "  0.9444166421890259,\n",
              "  0.952750027179718,\n",
              "  0.9519166946411133,\n",
              "  0.9595833420753479,\n",
              "  0.9558333158493042,\n",
              "  0.9672499895095825,\n",
              "  0.9634166955947876,\n",
              "  0.968833327293396,\n",
              "  0.9659166932106018,\n",
              "  0.9659166932106018,\n",
              "  0.9698333144187927],\n",
              " 'val_loss': [0.30841973423957825,\n",
              "  0.2637854218482971,\n",
              "  0.19571177661418915,\n",
              "  0.17550697922706604,\n",
              "  0.17275582253932953,\n",
              "  0.15382890403270721,\n",
              "  0.1707383394241333,\n",
              "  0.12396569550037384,\n",
              "  0.1405305564403534,\n",
              "  0.13706433773040771,\n",
              "  0.1441601812839508,\n",
              "  0.14153413474559784,\n",
              "  0.14270074665546417]}"
            ]
          },
          "metadata": {
            "tags": []
          },
          "execution_count": 10
        }
      ]
    },
    {
      "cell_type": "code",
      "metadata": {
        "colab": {
          "base_uri": "https://localhost:8080/",
          "height": 879
        },
        "id": "_2ZfNbiQJkhq",
        "outputId": "5249b4cf-71dd-4398-a77e-732258a5b70b"
      },
      "source": [
        "#Plotting the graph for train loss and validation loss\n",
        "plt.figure(figsize=(20, 15))\n",
        "plt.plot(history.history['loss'], 'k-', label = 'Loss function for train dataset')\n",
        "plt.plot(history.history['val_loss'], 'r-', label = 'Loss function for validation dataset')\n",
        "plt.xlabel('Epochs')\n",
        "plt.ylabel('Loss')\n",
        "plt.legend()\n",
        "plt.show()"
      ],
      "execution_count": 11,
      "outputs": [
        {
          "output_type": "display_data",
          "data": {
            "image/png": "[encoded data removed]",
            "text/plain": [
              "<Figure size 1440x1080 with 1 Axes>"
            ]
          },
          "metadata": {
            "tags": [],
            "needs_background": "light"
          }
        }
      ]
    },
    {
      "cell_type": "code",
      "metadata": {
        "colab": {
          "base_uri": "https://localhost:8080/"
        },
        "id": "OFl3u9ndJkkN",
        "outputId": "f8713117-594e-4674-d5ca-c2b2d13572f4"
      },
      "source": [
        "#Evaluating the actual model\n",
        "test_loss, test_accuracy = nn_model.evaluate(test_x, test_y, verbose=2)\n",
        "test_loss, test_accuracy"
      ],
      "execution_count": 12,
      "outputs": [
        {
          "output_type": "stream",
          "text": [
            "313/313 - 1s - loss: 0.1432 - accuracy: 0.9682\n"
          ],
          "name": "stdout"
        },
        {
          "output_type": "execute_result",
          "data": {
            "text/plain": [
              "(0.14319895207881927, 0.9682000279426575)"
            ]
          },
          "metadata": {
            "tags": []
          },
          "execution_count": 12
        }
      ]
    },
    {
      "cell_type": "markdown",
      "metadata": {
        "id": "b8ygaTlfipKf"
      },
      "source": [
        "###**Making predictions and getting metric values**"
      ]
    },
    {
      "cell_type": "code",
      "metadata": {
        "colab": {
          "base_uri": "https://localhost:8080/"
        },
        "id": "GJ6S3fKBtWZk",
        "outputId": "651f96e4-cf46-452f-e34f-99c778d2a164"
      },
      "source": [
        "#Making predictions on test dataset\n",
        "predictions = nn_model.predict(test_x)\n",
        "pred = np.argmax(predictions, axis=1)\n",
        "pred"
      ],
      "execution_count": 13,
      "outputs": [
        {
          "output_type": "execute_result",
          "data": {
            "text/plain": [
              "array([7, 2, 1, ..., 4, 5, 6])"
            ]
          },
          "metadata": {
            "tags": []
          },
          "execution_count": 13
        }
      ]
    },
    {
      "cell_type": "code",
      "metadata": {
        "colab": {
          "base_uri": "https://localhost:8080/"
        },
        "id": "WGtJe_zRYoqY",
        "outputId": "67399e20-e065-481a-b0c1-1cd2ae730ece"
      },
      "source": [
        "#Create confusion matrix for Custom CNN Model\n",
        "from sklearn.metrics import confusion_matrix\n",
        "nn_cm = confusion_matrix(test_y, pred)\n",
        "nn_cm"
      ],
      "execution_count": 14,
      "outputs": [
        {
          "output_type": "execute_result",
          "data": {
            "text/plain": [
              "array([[ 973,    0,    2,    0,    0,    0,    1,    2,    2,    0],\n",
              "       [   0, 1108,    3,    6,    1,    2,    5,    0,   10,    0],\n",
              "       [   2,    0, 1020,    2,    1,    0,    0,    4,    3,    0],\n",
              "       [   0,    0,    5,  987,    0,    7,    0,    4,    5,    2],\n",
              "       [   7,    0,    4,    0,  946,    1,   15,    1,    3,    5],\n",
              "       [   8,    0,    1,   14,    2,  856,    4,    1,    5,    1],\n",
              "       [   4,    1,    2,    1,    7,    5,  933,    0,    5,    0],\n",
              "       [   3,    1,   18,   14,    2,    0,    0,  972,    4,   14],\n",
              "       [   8,    0,    7,    8,    5,    6,    5,    3,  930,    2],\n",
              "       [   4,    1,    0,   10,   19,    7,    2,    4,    5,  957]])"
            ]
          },
          "metadata": {
            "tags": []
          },
          "execution_count": 14
        }
      ]
    },
    {
      "cell_type": "code",
      "metadata": {
        "id": "TjhgyizWrAQm",
        "colab": {
          "base_uri": "https://localhost:8080/",
          "height": 880
        },
        "outputId": "120cf5b3-1477-4355-d6bb-5635ce6a5183"
      },
      "source": [
        "#Creating a confusion matrix for the predicted output\n",
        "import seaborn as sns\n",
        "plt.figure(figsize=(20, 15))\n",
        "axis = plt.subplot(111)\n",
        "sns.heatmap(nn_cm, ax = axis, cmap = 'Blues', annot = True, square = False, fmt='')"
      ],
      "execution_count": 15,
      "outputs": [
        {
          "output_type": "execute_result",
          "data": {
            "text/plain": [
              "<matplotlib.axes._subplots.AxesSubplot at 0x7ff5a6984e10>"
            ]
          },
          "metadata": {
            "tags": []
          },
          "execution_count": 15
        },
        {
          "output_type": "display_data",
          "data": {
            "image/png": "[encoded data removed]",
            "text/plain": [
              "<Figure size 1440x1080 with 2 Axes>"
            ]
          },
          "metadata": {
            "tags": [],
            "needs_background": "light"
          }
        }
      ]
    },
    {
      "cell_type": "code",
      "metadata": {
        "id": "TJFM-yVerAQm",
        "colab": {
          "base_uri": "https://localhost:8080/"
        },
        "outputId": "df8813f5-7835-425d-9182-ffd4f1a2fb81"
      },
      "source": [
        "#Calculating accuracy based in the confusion matrix for Custom CNN Model\n",
        "#Accuracy is calculated by ratio of all true predictions and total number of images \n",
        "#Trace function is used to calculate sum of all diagonal value (True predictions)\n",
        "nn_accuracy = nn_cm.trace()/nn_cm.sum()\n",
        "print(\"Accuracy for NN model : \", nn_accuracy)"
      ],
      "execution_count": 16,
      "outputs": [
        {
          "output_type": "stream",
          "text": [
            "Accuracy for NN model :  0.9682\n"
          ],
          "name": "stdout"
        }
      ]
    },
    {
      "cell_type": "code",
      "metadata": {
        "id": "LgitPQ0UrAQm",
        "colab": {
          "base_uri": "https://localhost:8080/"
        },
        "outputId": "d03c8f70-c0b1-4e77-f9da-83564a829c9a"
      },
      "source": [
        "#Getting F1 micro score for Custom CNN Model\n",
        "from sklearn.metrics import f1_score\n",
        "nn_f1 = f1_score(test_y, pred, average = 'micro')\n",
        "print(\"F1 score (micro) for NN model : \", nn_f1)"
      ],
      "execution_count": 17,
      "outputs": [
        {
          "output_type": "stream",
          "text": [
            "F1 score (micro) for NN model :  0.9682\n"
          ],
          "name": "stdout"
        }
      ]
    },
    {
      "cell_type": "code",
      "metadata": {
        "id": "kxTqeEP_rAQm",
        "colab": {
          "base_uri": "https://localhost:8080/"
        },
        "outputId": "f119671d-22c6-4aaf-ae6c-80f5fb69ae1f"
      },
      "source": [
        "#Getting F1 macro score for Custom CNN Model\n",
        "from sklearn.metrics import f1_score\n",
        "nn_f1_ma = f1_score(test_y, pred, average = 'macro')\n",
        "print(\"F1 score (macro) for NN model : \", nn_f1_ma)"
      ],
      "execution_count": 18,
      "outputs": [
        {
          "output_type": "stream",
          "text": [
            "F1 score (macro) for NN model :  0.9678865732188788\n"
          ],
          "name": "stdout"
        }
      ]
    },
    {
      "cell_type": "code",
      "metadata": {
        "colab": {
          "base_uri": "https://localhost:8080/"
        },
        "id": "hxc5UluGZf7i",
        "outputId": "a00c848f-7e2f-455c-8792-aad5e7848d9b"
      },
      "source": [
        "#Converting hte test case labels to one hot vectors\n",
        "from tensorflow.keras.utils import to_categorical\n",
        "test_y_preds = to_categorical(test_y)\n",
        "test_y_preds"
      ],
      "execution_count": 19,
      "outputs": [
        {
          "output_type": "execute_result",
          "data": {
            "text/plain": [
              "array([[0., 0., 0., ..., 1., 0., 0.],\n",
              "       [0., 0., 1., ..., 0., 0., 0.],\n",
              "       [0., 1., 0., ..., 0., 0., 0.],\n",
              "       ...,\n",
              "       [0., 0., 0., ..., 0., 0., 0.],\n",
              "       [0., 0., 0., ..., 0., 0., 0.],\n",
              "       [0., 0., 0., ..., 0., 0., 0.]], dtype=float32)"
            ]
          },
          "metadata": {
            "tags": []
          },
          "execution_count": 19
        }
      ]
    },
    {
      "cell_type": "code",
      "metadata": {
        "colab": {
          "base_uri": "https://localhost:8080/"
        },
        "id": "zAzU6-rB7cOI",
        "outputId": "77e5bc4a-8bcd-4350-cadf-70f6e4f8d719"
      },
      "source": [
        "#Converting the model predictions of probability to one hot vectors\n",
        "a = nn_model.predict_proba(test_x)\n",
        "a = (a == a.max(axis=1, keepdims=True)).astype(int)\n",
        "a"
      ],
      "execution_count": 20,
      "outputs": [
        {
          "output_type": "stream",
          "text": [
            "/usr/local/lib/python3.7/dist-packages/tensorflow/python/keras/engine/sequential.py:425: UserWarning: `model.predict_proba()` is deprecated and will be removed after 2021-01-01. Please use `model.predict()` instead.\n",
            "  warnings.warn('`model.predict_proba()` is deprecated and '\n"
          ],
          "name": "stderr"
        },
        {
          "output_type": "stream",
          "text": [
            "WARNING:tensorflow:Network returning invalid probability values. The last layer might not normalize predictions into probabilities (like softmax or sigmoid would).\n"
          ],
          "name": "stdout"
        },
        {
          "output_type": "execute_result",
          "data": {
            "text/plain": [
              "array([[0, 0, 0, ..., 1, 0, 0],\n",
              "       [0, 0, 1, ..., 0, 0, 0],\n",
              "       [0, 1, 0, ..., 0, 0, 0],\n",
              "       ...,\n",
              "       [0, 0, 0, ..., 0, 0, 0],\n",
              "       [0, 0, 0, ..., 0, 0, 0],\n",
              "       [0, 0, 0, ..., 0, 0, 0]])"
            ]
          },
          "metadata": {
            "tags": []
          },
          "execution_count": 20
        }
      ]
    },
    {
      "cell_type": "code",
      "metadata": {
        "id": "LNB5EEHgrAQn",
        "colab": {
          "base_uri": "https://localhost:8080/"
        },
        "outputId": "c4a44d89-c856-4424-f711-e43e0cbb2c8b"
      },
      "source": [
        "# Calculating AUC Score using one hot vectors of predictions and actual cases\n",
        "from sklearn.metrics import roc_auc_score\n",
        "nn_auc = roc_auc_score(test_y_preds, a,multi_class='ovr', average = 'macro')\n",
        "print(\"AUC Score of NN Model:\",nn_auc)"
      ],
      "execution_count": 21,
      "outputs": [
        {
          "output_type": "stream",
          "text": [
            "AUC Score of NN Model: 0.9822540571663982\n"
          ],
          "name": "stdout"
        }
      ]
    }
  ]
}