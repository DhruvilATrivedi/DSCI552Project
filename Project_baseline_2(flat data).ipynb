{
  "nbformat": 4,
  "nbformat_minor": 0,
  "metadata": {
    "colab": {
      "name": "Project_baseline_flat.ipynb",
      "provenance": [],
      "collapsed_sections": []
    },
    "kernelspec": {
      "name": "python3",
      "display_name": "Python 3"
    },
    "language_info": {
      "name": "python"
    }
  },
  "cells": [
    {
      "cell_type": "code",
      "metadata": {
        "id": "e8Y2oRMiqH3H"
      },
      "source": [
        "#Importing necessary libraries\n",
        "import pandas as pd\n",
        "import numpy as np\n",
        "import matplotlib.pyplot as plt\n",
        "import tensorflow\n",
        "from keras.callbacks import EarlyStopping"
      ],
      "execution_count": null,
      "outputs": []
    },
    {
      "cell_type": "code",
      "metadata": {
        "colab": {
          "base_uri": "https://localhost:8080/"
        },
        "id": "sgM9-i9BrJq-",
        "outputId": "0b87c7df-6965-4d5e-b9bb-23a7f8c9a4b2"
      },
      "source": [
        "#Importing MNIST dataset from tensorflow keras\n",
        "(trainval_x, trainval_y), (test_x, test_y) = tensorflow.keras.datasets.mnist.load_data()"
      ],
      "execution_count": null,
      "outputs": [
        {
          "output_type": "stream",
          "text": [
            "Downloading data from https://storage.googleapis.com/tensorflow/tf-keras-datasets/mnist.npz\n",
            "11493376/11490434 [==============================] - 0s 0us/step\n"
          ],
          "name": "stdout"
        }
      ]
    },
    {
      "cell_type": "code",
      "metadata": {
        "colab": {
          "base_uri": "https://localhost:8080/",
          "height": 245
        },
        "id": "ecTfMq7MrKUb",
        "outputId": "06738eac-d4da-480a-a96c-600876e749e8"
      },
      "source": [
        "#Plotting certain images from the dataset\n",
        "fig, axes = plt.subplots(1, 3, figsize = (12, 4))\n",
        "axes[0].imshow(trainval_x[9])\n",
        "axes[1].imshow(trainval_x[16])\n",
        "axes[2].imshow(trainval_x[27])\n",
        "plt.show()"
      ],
      "execution_count": null,
      "outputs": [
        {
          "output_type": "display_data",
          "data": {
            "image/png": "[encoded data removed]",
            "text/plain": [
              "<Figure size 864x288 with 3 Axes>"
            ]
          },
          "metadata": {
            "tags": [],
            "needs_background": "light"
          }
        }
      ]
    },
    {
      "cell_type": "code",
      "metadata": {
        "colab": {
          "base_uri": "https://localhost:8080/"
        },
        "id": "ejmoHb_-rM7N",
        "outputId": "85fdcdae-4c5b-48ae-9dd2-a90beecf8916"
      },
      "source": [
        "#Converting the data from utf-8 format to float format\n",
        "trainval_x = np.float32(trainval_x)\n",
        "trainval_x"
      ],
      "execution_count": null,
      "outputs": [
        {
          "output_type": "execute_result",
          "data": {
            "text/plain": [
              "array([[[0., 0., 0., ..., 0., 0., 0.],\n",
              "        [0., 0., 0., ..., 0., 0., 0.],\n",
              "        [0., 0., 0., ..., 0., 0., 0.],\n",
              "        ...,\n",
              "        [0., 0., 0., ..., 0., 0., 0.],\n",
              "        [0., 0., 0., ..., 0., 0., 0.],\n",
              "        [0., 0., 0., ..., 0., 0., 0.]],\n",
              "\n",
              "       [[0., 0., 0., ..., 0., 0., 0.],\n",
              "        [0., 0., 0., ..., 0., 0., 0.],\n",
              "        [0., 0., 0., ..., 0., 0., 0.],\n",
              "        ...,\n",
              "        [0., 0., 0., ..., 0., 0., 0.],\n",
              "        [0., 0., 0., ..., 0., 0., 0.],\n",
              "        [0., 0., 0., ..., 0., 0., 0.]],\n",
              "\n",
              "       [[0., 0., 0., ..., 0., 0., 0.],\n",
              "        [0., 0., 0., ..., 0., 0., 0.],\n",
              "        [0., 0., 0., ..., 0., 0., 0.],\n",
              "        ...,\n",
              "        [0., 0., 0., ..., 0., 0., 0.],\n",
              "        [0., 0., 0., ..., 0., 0., 0.],\n",
              "        [0., 0., 0., ..., 0., 0., 0.]],\n",
              "\n",
              "       ...,\n",
              "\n",
              "       [[0., 0., 0., ..., 0., 0., 0.],\n",
              "        [0., 0., 0., ..., 0., 0., 0.],\n",
              "        [0., 0., 0., ..., 0., 0., 0.],\n",
              "        ...,\n",
              "        [0., 0., 0., ..., 0., 0., 0.],\n",
              "        [0., 0., 0., ..., 0., 0., 0.],\n",
              "        [0., 0., 0., ..., 0., 0., 0.]],\n",
              "\n",
              "       [[0., 0., 0., ..., 0., 0., 0.],\n",
              "        [0., 0., 0., ..., 0., 0., 0.],\n",
              "        [0., 0., 0., ..., 0., 0., 0.],\n",
              "        ...,\n",
              "        [0., 0., 0., ..., 0., 0., 0.],\n",
              "        [0., 0., 0., ..., 0., 0., 0.],\n",
              "        [0., 0., 0., ..., 0., 0., 0.]],\n",
              "\n",
              "       [[0., 0., 0., ..., 0., 0., 0.],\n",
              "        [0., 0., 0., ..., 0., 0., 0.],\n",
              "        [0., 0., 0., ..., 0., 0., 0.],\n",
              "        ...,\n",
              "        [0., 0., 0., ..., 0., 0., 0.],\n",
              "        [0., 0., 0., ..., 0., 0., 0.],\n",
              "        [0., 0., 0., ..., 0., 0., 0.]]], dtype=float32)"
            ]
          },
          "metadata": {
            "tags": []
          },
          "execution_count": 4
        }
      ]
    },
    {
      "cell_type": "code",
      "metadata": {
        "colab": {
          "base_uri": "https://localhost:8080/"
        },
        "id": "g500foebrRn8",
        "outputId": "21cf4fa1-6515-45b9-f3d6-43a4f8552642"
      },
      "source": [
        "#Converting the test data from utf-8 format to float format\n",
        "test_x = np.float32(test_x)\n",
        "test_x"
      ],
      "execution_count": null,
      "outputs": [
        {
          "output_type": "execute_result",
          "data": {
            "text/plain": [
              "array([[[0., 0., 0., ..., 0., 0., 0.],\n",
              "        [0., 0., 0., ..., 0., 0., 0.],\n",
              "        [0., 0., 0., ..., 0., 0., 0.],\n",
              "        ...,\n",
              "        [0., 0., 0., ..., 0., 0., 0.],\n",
              "        [0., 0., 0., ..., 0., 0., 0.],\n",
              "        [0., 0., 0., ..., 0., 0., 0.]],\n",
              "\n",
              "       [[0., 0., 0., ..., 0., 0., 0.],\n",
              "        [0., 0., 0., ..., 0., 0., 0.],\n",
              "        [0., 0., 0., ..., 0., 0., 0.],\n",
              "        ...,\n",
              "        [0., 0., 0., ..., 0., 0., 0.],\n",
              "        [0., 0., 0., ..., 0., 0., 0.],\n",
              "        [0., 0., 0., ..., 0., 0., 0.]],\n",
              "\n",
              "       [[0., 0., 0., ..., 0., 0., 0.],\n",
              "        [0., 0., 0., ..., 0., 0., 0.],\n",
              "        [0., 0., 0., ..., 0., 0., 0.],\n",
              "        ...,\n",
              "        [0., 0., 0., ..., 0., 0., 0.],\n",
              "        [0., 0., 0., ..., 0., 0., 0.],\n",
              "        [0., 0., 0., ..., 0., 0., 0.]],\n",
              "\n",
              "       ...,\n",
              "\n",
              "       [[0., 0., 0., ..., 0., 0., 0.],\n",
              "        [0., 0., 0., ..., 0., 0., 0.],\n",
              "        [0., 0., 0., ..., 0., 0., 0.],\n",
              "        ...,\n",
              "        [0., 0., 0., ..., 0., 0., 0.],\n",
              "        [0., 0., 0., ..., 0., 0., 0.],\n",
              "        [0., 0., 0., ..., 0., 0., 0.]],\n",
              "\n",
              "       [[0., 0., 0., ..., 0., 0., 0.],\n",
              "        [0., 0., 0., ..., 0., 0., 0.],\n",
              "        [0., 0., 0., ..., 0., 0., 0.],\n",
              "        ...,\n",
              "        [0., 0., 0., ..., 0., 0., 0.],\n",
              "        [0., 0., 0., ..., 0., 0., 0.],\n",
              "        [0., 0., 0., ..., 0., 0., 0.]],\n",
              "\n",
              "       [[0., 0., 0., ..., 0., 0., 0.],\n",
              "        [0., 0., 0., ..., 0., 0., 0.],\n",
              "        [0., 0., 0., ..., 0., 0., 0.],\n",
              "        ...,\n",
              "        [0., 0., 0., ..., 0., 0., 0.],\n",
              "        [0., 0., 0., ..., 0., 0., 0.],\n",
              "        [0., 0., 0., ..., 0., 0., 0.]]], dtype=float32)"
            ]
          },
          "metadata": {
            "tags": []
          },
          "execution_count": 5
        }
      ]
    },
    {
      "cell_type": "code",
      "metadata": {
        "id": "AEd9ZmdLddzx"
      },
      "source": [
        "#Flattenning the list of images to create a long array of 784 numbers \n",
        "trainval_x_flat = []\n",
        "for i in range(len(trainval_x)):\n",
        "  trainval_x_flat.append([y for x in trainval_x[i] for y in x])"
      ],
      "execution_count": null,
      "outputs": []
    },
    {
      "cell_type": "code",
      "metadata": {
        "colab": {
          "base_uri": "https://localhost:8080/"
        },
        "id": "wZJjdW0Og-44",
        "outputId": "a24af247-8576-4b4f-bf64-0a39c5dad668"
      },
      "source": [
        "#Converting flat list array to numpy array\n",
        "trainval_x_flat = np.array(trainval_x_flat)\n",
        "trainval_x_flat.shape"
      ],
      "execution_count": null,
      "outputs": [
        {
          "output_type": "execute_result",
          "data": {
            "text/plain": [
              "(60000, 784)"
            ]
          },
          "metadata": {
            "tags": []
          },
          "execution_count": 7
        }
      ]
    },
    {
      "cell_type": "code",
      "metadata": {
        "id": "0DJyFIGPuQ0W"
      },
      "source": [
        ""
      ],
      "execution_count": null,
      "outputs": []
    },
    {
      "cell_type": "markdown",
      "metadata": {
        "id": "VOwJ9XfPqhwM"
      },
      "source": [
        "###**Reducing the data dimensionality**"
      ]
    },
    {
      "cell_type": "code",
      "metadata": {
        "colab": {
          "base_uri": "https://localhost:8080/"
        },
        "id": "syuT-Y83c98Q",
        "outputId": "05ca2a6a-7566-4a77-92f4-f2be6cdb2c5a"
      },
      "source": [
        "#Taking PCA dimensionality reduction for upto 700 components\n",
        "from sklearn.decomposition import PCA\n",
        "pca_test = PCA(n_components=700, svd_solver = 'randomized', random_state=42)\n",
        "pca_test.fit(trainval_x_flat)\n",
        "\n",
        "pca_test.explained_variance_ratio_"
      ],
      "execution_count": null,
      "outputs": [
        {
          "output_type": "execute_result",
          "data": {
            "text/plain": [
              "array([9.70479771e-02, 7.09602460e-02, 6.16918243e-02, 5.38949445e-02,\n",
              "       4.86886539e-02, 4.31229249e-02, 3.27197909e-02, 2.88393572e-02,\n",
              "       2.76207067e-02, 2.35703420e-02, 2.10922118e-02, 2.02302039e-02,\n",
              "       1.71584412e-02, 1.69213694e-02, 1.57866497e-02, 1.48297418e-02,\n",
              "       1.32458089e-02, 1.27691645e-02, 1.18728103e-02, 1.15270037e-02,\n",
              "       1.06618134e-02, 1.00672767e-02, 9.53586679e-03, 9.12556797e-03,\n",
              "       8.83417204e-03, 8.39331374e-03, 8.12590215e-03, 7.86377396e-03,\n",
              "       7.44743925e-03, 6.90868683e-03, 6.58102520e-03, 6.48156926e-03,\n",
              "       6.02623494e-03, 5.86590450e-03, 5.70029765e-03, 5.43635199e-03,\n",
              "       5.05793886e-03, 4.87865787e-03, 4.81436448e-03, 4.72273305e-03,\n",
              "       4.56753653e-03, 4.44842549e-03, 4.18507587e-03, 3.98221286e-03,\n",
              "       3.84980417e-03, 3.75108817e-03, 3.62014072e-03, 3.51596368e-03,\n",
              "       3.40063102e-03, 3.21879075e-03, 3.19021544e-03, 3.12809530e-03,\n",
              "       2.95986887e-03, 2.88958848e-03, 2.84134643e-03, 2.71439855e-03,\n",
              "       2.69525289e-03, 2.58476334e-03, 2.53774249e-03, 2.44784728e-03,\n",
              "       2.40509585e-03, 2.39266362e-03, 2.30411883e-03, 2.21535331e-03,\n",
              "       2.13723863e-03, 2.07228330e-03, 2.03045644e-03, 1.96785410e-03,\n",
              "       1.92855392e-03, 1.88635266e-03, 1.86979771e-03, 1.81085523e-03,\n",
              "       1.77564670e-03, 1.74900563e-03, 1.65760517e-03, 1.63896219e-03,\n",
              "       1.61464466e-03, 1.55118608e-03, 1.47615082e-03, 1.43178075e-03,\n",
              "       1.42096251e-03, 1.41155033e-03, 1.40176376e-03, 1.35738321e-03,\n",
              "       1.33849052e-03, 1.32398214e-03, 1.30159094e-03, 1.25874847e-03,\n",
              "       1.22829899e-03, 1.21586234e-03, 1.17036141e-03, 1.14875194e-03,\n",
              "       1.13245810e-03, 1.10887212e-03, 1.09003449e-03, 1.06924772e-03,\n",
              "       1.04197476e-03, 1.04008277e-03, 1.01257709e-03, 1.00528717e-03,\n",
              "       9.84031358e-04, 9.49698850e-04, 9.41354374e-04, 9.16179270e-04,\n",
              "       9.07864014e-04, 8.96885234e-04, 8.65403563e-04, 8.55184451e-04,\n",
              "       8.45632458e-04, 8.22507194e-04, 7.91595958e-04, 7.85950164e-04,\n",
              "       7.84617965e-04, 7.68842583e-04, 7.64026481e-04, 7.53099506e-04,\n",
              "       7.36793329e-04, 7.27142498e-04, 7.19661941e-04, 7.06826744e-04,\n",
              "       6.95434690e-04, 6.92171277e-04, 6.83313294e-04, 6.74069859e-04,\n",
              "       6.66886393e-04, 6.45275111e-04, 6.35603268e-04, 6.31655450e-04,\n",
              "       6.22942811e-04, 6.05299370e-04, 6.03597553e-04, 5.94489567e-04,\n",
              "       5.88316470e-04, 5.86528797e-04, 5.81349537e-04, 5.76839666e-04,\n",
              "       5.65377646e-04, 5.54772385e-04, 5.35178231e-04, 5.25933050e-04,\n",
              "       5.25100681e-04, 5.10264537e-04, 5.02978277e-04, 5.01085422e-04,\n",
              "       4.98720154e-04, 4.91077197e-04, 4.85544675e-04, 4.82853589e-04,\n",
              "       4.74020781e-04, 4.68358106e-04, 4.66606201e-04, 4.63334698e-04,\n",
              "       4.59300500e-04, 4.50386549e-04, 4.48814098e-04, 4.42716846e-04,\n",
              "       4.36680886e-04, 4.27454826e-04, 4.24985687e-04, 4.22018551e-04,\n",
              "       4.15519695e-04, 4.09643166e-04, 4.00829653e-04, 3.97888129e-04,\n",
              "       3.94086499e-04, 3.90499394e-04, 3.85858177e-04, 3.79782083e-04,\n",
              "       3.78905155e-04, 3.73944757e-04, 3.69420304e-04, 3.65155982e-04,\n",
              "       3.63818835e-04, 3.59880010e-04, 3.54647404e-04, 3.52903182e-04,\n",
              "       3.47293506e-04, 3.45962180e-04, 3.41451727e-04, 3.37650592e-04,\n",
              "       3.37098871e-04, 3.30231938e-04, 3.28359514e-04, 3.25912086e-04,\n",
              "       3.22949287e-04, 3.21273779e-04, 3.17303813e-04, 3.16179503e-04,\n",
              "       3.10946984e-04, 3.09541327e-04, 3.05970723e-04, 3.03279230e-04,\n",
              "       3.02414846e-04, 3.01573134e-04, 2.96711252e-04, 2.95750768e-04,\n",
              "       2.93475983e-04, 2.92677170e-04, 2.87756440e-04, 2.84349284e-04,\n",
              "       2.81970424e-04, 2.79074360e-04, 2.75738625e-04, 2.72478617e-04,\n",
              "       2.69439275e-04, 2.67711293e-04, 2.65124021e-04, 2.64331058e-04,\n",
              "       2.61886773e-04, 2.59454711e-04, 2.58560700e-04, 2.56926665e-04,\n",
              "       2.54740851e-04, 2.52815662e-04, 2.52293539e-04, 2.49566539e-04,\n",
              "       2.48520257e-04, 2.46078504e-04, 2.43958464e-04, 2.41866597e-04,\n",
              "       2.40971742e-04, 2.40447538e-04, 2.38273278e-04, 2.36856824e-04,\n",
              "       2.32581544e-04, 2.31312311e-04, 2.30131423e-04, 2.28090095e-04,\n",
              "       2.27586628e-04, 2.22779534e-04, 2.21866256e-04, 2.20445509e-04,\n",
              "       2.17869791e-04, 2.16659639e-04, 2.15167136e-04, 2.14198037e-04,\n",
              "       2.12858256e-04, 2.10375627e-04, 2.09758131e-04, 2.06964556e-04,\n",
              "       2.04726908e-04, 2.04274285e-04, 2.01317322e-04, 2.00987837e-04,\n",
              "       1.98999463e-04, 1.97633577e-04, 1.95830362e-04, 1.93731015e-04,\n",
              "       1.92861131e-04, 1.91775471e-04, 1.91544750e-04, 1.89080485e-04,\n",
              "       1.88015358e-04, 1.86395002e-04, 1.85850120e-04, 1.84620774e-04,\n",
              "       1.83698430e-04, 1.83148833e-04, 1.81883239e-04, 1.79868948e-04,\n",
              "       1.77558337e-04, 1.76691319e-04, 1.75964611e-04, 1.73885273e-04,\n",
              "       1.73431137e-04, 1.72647837e-04, 1.71388165e-04, 1.70038882e-04,\n",
              "       1.69302934e-04, 1.68007944e-04, 1.66924103e-04, 1.66454702e-04,\n",
              "       1.64208017e-04, 1.63484059e-04, 1.62660450e-04, 1.61892880e-04,\n",
              "       1.60893615e-04, 1.59846182e-04, 1.58835261e-04, 1.57354138e-04,\n",
              "       1.56740018e-04, 1.54899433e-04, 1.53811270e-04, 1.53070185e-04,\n",
              "       1.52040986e-04, 1.50012769e-04, 1.49667088e-04, 1.48231382e-04,\n",
              "       1.47676066e-04, 1.46129489e-04, 1.44654536e-04, 1.43235869e-04,\n",
              "       1.42724995e-04, 1.42071571e-04, 1.41751225e-04, 1.40494347e-04,\n",
              "       1.38239673e-04, 1.37974348e-04, 1.36843228e-04, 1.35977389e-04,\n",
              "       1.35797236e-04, 1.34511167e-04, 1.33619149e-04, 1.32344750e-04,\n",
              "       1.30703716e-04, 1.30191562e-04, 1.29164662e-04, 1.28113505e-04,\n",
              "       1.27517458e-04, 1.27219799e-04, 1.26340557e-04, 1.25861945e-04,\n",
              "       1.24732644e-04, 1.23564139e-04, 1.22623547e-04, 1.21569094e-04,\n",
              "       1.21028854e-04, 1.19969147e-04, 1.19423894e-04, 1.18950542e-04,\n",
              "       1.17873831e-04, 1.17061652e-04, 1.16496609e-04, 1.16100739e-04,\n",
              "       1.14532188e-04, 1.14218637e-04, 1.12408212e-04, 1.11276975e-04,\n",
              "       1.10541710e-04, 1.10432396e-04, 1.10060399e-04, 1.08976397e-04,\n",
              "       1.08324675e-04, 1.07597305e-04, 1.07005937e-04, 1.06206542e-04,\n",
              "       1.05930572e-04, 1.05051382e-04, 1.03422077e-04, 1.02251761e-04,\n",
              "       1.02047336e-04, 1.00847232e-04, 1.00266188e-04, 9.95993105e-05,\n",
              "       9.93743815e-05, 9.81264093e-05, 9.75965813e-05, 9.68326349e-05,\n",
              "       9.55258147e-05, 9.45462161e-05, 9.37995937e-05, 9.37241202e-05,\n",
              "       9.24944179e-05, 9.15887649e-05, 9.13981130e-05, 9.06754722e-05,\n",
              "       9.00764499e-05, 8.93717806e-05, 8.91572345e-05, 8.82626628e-05,\n",
              "       8.73291865e-05, 8.63108507e-05, 8.55766266e-05, 8.51589866e-05,\n",
              "       8.46032999e-05, 8.33140075e-05, 8.29791679e-05, 8.24999734e-05,\n",
              "       8.19127381e-05, 8.10915444e-05, 8.09043340e-05, 7.96097811e-05,\n",
              "       7.94696170e-05, 7.86272576e-05, 7.80622868e-05, 7.74263390e-05,\n",
              "       7.65913574e-05, 7.58050228e-05, 7.46107326e-05, 7.38468952e-05,\n",
              "       7.35702124e-05, 7.28166924e-05, 7.27151419e-05, 7.20677708e-05,\n",
              "       7.14174603e-05, 7.08068401e-05, 6.96526768e-05, 6.92460162e-05,\n",
              "       6.83006656e-05, 6.79393997e-05, 6.70595691e-05, 6.62354068e-05,\n",
              "       6.52435774e-05, 6.42034283e-05, 6.37113335e-05, 6.34545140e-05,\n",
              "       6.20336796e-05, 6.12875010e-05, 6.03199333e-05, 5.99291743e-05,\n",
              "       5.93689292e-05, 5.87307914e-05, 5.86215792e-05, 5.73870639e-05,\n",
              "       5.67262359e-05, 5.63746689e-05, 5.56173254e-05, 5.49020879e-05,\n",
              "       5.47396376e-05, 5.44738177e-05, 5.33309321e-05, 5.27563679e-05,\n",
              "       5.25484647e-05, 5.21990187e-05, 5.18528432e-05, 5.10156715e-05,\n",
              "       5.03817791e-05, 4.97561778e-05, 4.90681123e-05, 4.87015386e-05,\n",
              "       4.79428927e-05, 4.72089196e-05, 4.66613819e-05, 4.64432851e-05,\n",
              "       4.56022644e-05, 4.49100880e-05, 4.37141134e-05, 4.29271568e-05,\n",
              "       4.26096158e-05, 4.23862075e-05, 4.21748446e-05, 4.17853335e-05,\n",
              "       4.13876405e-05, 4.08467859e-05, 4.02874321e-05, 3.85892963e-05,\n",
              "       3.82525614e-05, 3.81424543e-05, 3.78843906e-05, 3.73243565e-05,\n",
              "       3.70747694e-05, 3.65906890e-05, 3.57653880e-05, 3.53584728e-05,\n",
              "       3.52536190e-05, 3.48705107e-05, 3.45510598e-05, 3.43840693e-05,\n",
              "       3.34030410e-05, 3.29996583e-05, 3.21989573e-05, 3.19398132e-05,\n",
              "       3.16412625e-05, 3.10135110e-05, 3.04096629e-05, 3.01564542e-05,\n",
              "       2.99066578e-05, 2.92132681e-05, 2.88668798e-05, 2.85188526e-05,\n",
              "       2.80654967e-05, 2.79078085e-05, 2.75177299e-05, 2.69457269e-05,\n",
              "       2.57730280e-05, 2.52924347e-05, 2.51633373e-05, 2.48286287e-05,\n",
              "       2.46879317e-05, 2.43568229e-05, 2.43144896e-05, 2.42493752e-05,\n",
              "       2.37261556e-05, 2.33516821e-05, 2.32174243e-05, 2.25187359e-05,\n",
              "       2.23655443e-05, 2.21187693e-05, 2.14326956e-05, 2.12957639e-05,\n",
              "       2.10676826e-05, 2.08565871e-05, 2.03774071e-05, 2.00900304e-05,\n",
              "       1.98647831e-05, 1.96248147e-05, 1.95149642e-05, 1.89599086e-05,\n",
              "       1.84497676e-05, 1.81868763e-05, 1.81027626e-05, 1.79576018e-05,\n",
              "       1.75886871e-05, 1.74102170e-05, 1.63586083e-05, 1.61733369e-05,\n",
              "       1.61086082e-05, 1.59041829e-05, 1.55393336e-05, 1.52061712e-05,\n",
              "       1.51672730e-05, 1.49797334e-05, 1.47586879e-05, 1.45785007e-05,\n",
              "       1.43548823e-05, 1.41772798e-05, 1.39623507e-05, 1.37899206e-05,\n",
              "       1.36747722e-05, 1.33333306e-05, 1.31041370e-05, 1.25489187e-05,\n",
              "       1.23815398e-05, 1.21854573e-05, 1.20017221e-05, 1.19127271e-05,\n",
              "       1.17767904e-05, 1.17309155e-05, 1.13789802e-05, 1.13170136e-05,\n",
              "       1.12465295e-05, 1.10027722e-05, 1.09371858e-05, 1.05702256e-05,\n",
              "       1.05385561e-05, 1.02321874e-05, 1.00220641e-05, 9.57500379e-06,\n",
              "       9.37262030e-06, 9.26048142e-06, 9.22238905e-06, 8.87179431e-06,\n",
              "       8.80993139e-06, 8.59242027e-06, 8.16030570e-06, 7.97003031e-06,\n",
              "       7.86730561e-06, 7.73404827e-06, 7.64400556e-06, 7.57764701e-06,\n",
              "       7.53205768e-06, 7.36872335e-06, 7.26931830e-06, 7.14877615e-06,\n",
              "       6.96172583e-06, 6.88122054e-06, 6.71546468e-06, 6.65591733e-06,\n",
              "       6.53811367e-06, 6.47021079e-06, 6.13999146e-06, 5.92748165e-06,\n",
              "       5.72732324e-06, 5.67732832e-06, 5.55506722e-06, 5.34945684e-06,\n",
              "       5.27080829e-06, 5.18263505e-06, 5.03929914e-06, 4.99560656e-06,\n",
              "       4.93277230e-06, 4.90094726e-06, 4.81071402e-06, 4.69614633e-06,\n",
              "       4.62337130e-06, 4.55450709e-06, 4.19836533e-06, 4.18497348e-06,\n",
              "       4.01279385e-06, 4.00162071e-06, 3.94519111e-06, 3.79980997e-06,\n",
              "       3.78091340e-06, 3.31222805e-06, 3.23792665e-06, 3.21263610e-06,\n",
              "       3.17524086e-06, 3.11962754e-06, 3.08220888e-06, 3.02586341e-06,\n",
              "       3.01218643e-06, 2.97074689e-06, 2.95597556e-06, 2.92463005e-06,\n",
              "       2.80381050e-06, 2.62849449e-06, 2.54997235e-06, 2.36173923e-06,\n",
              "       2.31550212e-06, 2.26299699e-06, 2.24478231e-06, 2.20772381e-06,\n",
              "       2.15118826e-06, 2.14667011e-06, 2.10207077e-06, 2.04180083e-06,\n",
              "       1.87917601e-06, 1.86509249e-06, 1.85222632e-06, 1.84448686e-06,\n",
              "       1.80039694e-06, 1.75435639e-06, 1.61846060e-06, 1.60543073e-06,\n",
              "       1.50349399e-06, 1.46107880e-06, 1.41332293e-06, 1.38837163e-06,\n",
              "       1.31822298e-06, 1.30325907e-06, 1.28466490e-06, 1.24685880e-06,\n",
              "       1.11921975e-06, 1.07842209e-06, 1.04796470e-06, 1.04159869e-06,\n",
              "       1.03576406e-06, 9.81239623e-07, 9.66420203e-07, 9.34506488e-07,\n",
              "       9.15758164e-07, 9.09799269e-07, 8.99073598e-07, 8.75399621e-07,\n",
              "       8.33158083e-07, 7.76142770e-07, 7.44976376e-07, 7.21850654e-07,\n",
              "       6.66643245e-07, 6.59740010e-07, 6.36916639e-07, 6.25569555e-07,\n",
              "       6.25387258e-07, 5.90934178e-07, 5.82894813e-07, 5.66891742e-07,\n",
              "       5.60973604e-07, 5.28222813e-07, 5.22255959e-07, 4.77487902e-07,\n",
              "       4.71672934e-07, 4.66143575e-07, 4.32281894e-07, 4.20442888e-07,\n",
              "       4.06480353e-07, 3.83893621e-07, 3.62134870e-07, 3.56667101e-07,\n",
              "       3.12321134e-07, 2.96835708e-07, 2.78419577e-07, 2.72684332e-07,\n",
              "       2.57488807e-07, 2.55553630e-07, 2.41291872e-07, 2.35709123e-07,\n",
              "       2.29944149e-07, 2.25355677e-07, 2.14998792e-07, 2.02538970e-07,\n",
              "       2.01442987e-07, 1.96171371e-07, 1.76742986e-07, 1.71231321e-07,\n",
              "       1.50995660e-07, 1.49720563e-07, 1.36603390e-07, 1.35306280e-07,\n",
              "       1.28055717e-07, 1.07051420e-07, 9.44911633e-08, 8.78405686e-08,\n",
              "       8.32662082e-08, 8.16821881e-08, 6.84896975e-08, 6.72377496e-08,\n",
              "       6.42115694e-08, 5.95898797e-08, 5.54032695e-08, 4.66124170e-08,\n",
              "       4.59360265e-08, 4.06527541e-08, 3.93592536e-08, 3.60460817e-08,\n",
              "       3.56943346e-08, 3.24026388e-08, 3.08765884e-08, 3.00486995e-08,\n",
              "       2.89075892e-08, 2.40253968e-08, 1.88469738e-08, 1.77260731e-08,\n",
              "       1.66301337e-08, 1.62050036e-08, 1.11503340e-08, 1.03069597e-08,\n",
              "       1.00986108e-08, 8.64483951e-09, 7.95811328e-09, 6.91645630e-09],\n",
              "      dtype=float32)"
            ]
          },
          "metadata": {
            "tags": []
          },
          "execution_count": 8
        }
      ]
    },
    {
      "cell_type": "code",
      "metadata": {
        "colab": {
          "base_uri": "https://localhost:8080/",
          "height": 562
        },
        "id": "NmaHkR0lhPaH",
        "outputId": "8fb8cce0-1240-4289-8493-8e40ecf8e70d"
      },
      "source": [
        "#Plotting the graph for explained variances by the PCA for a certiain number of dimensions\n",
        "dim = list(range(1, 100))\n",
        "var = [sum(pca_test.explained_variance_ratio_[:i]) for i in dim]\n",
        "\n",
        "plt.figure(dpi=150)\n",
        "plt.plot(dim, var, 'bo')\n",
        "plt.plot(dim, var, 'r-')\n",
        "plt.xlabel('Dimensions')\n",
        "plt.ylabel('Explained variance ratio')\n",
        "plt.grid()\n",
        "plt.show()"
      ],
      "execution_count": null,
      "outputs": [
        {
          "output_type": "display_data",
          "data": {
            "image/png": "[encoded data removed]",
            "text/plain": [
              "<Figure size 900x600 with 1 Axes>"
            ]
          },
          "metadata": {
            "tags": [],
            "needs_background": "light"
          }
        }
      ]
    },
    {
      "cell_type": "code",
      "metadata": {
        "id": "Hso0TtgEhVIX"
      },
      "source": [
        "#Training the model with 20 dimensions as it is the sharp turn corner after which, increment in the dimensions does not lead to much of a difference\n",
        "from sklearn.decomposition import PCA\n",
        "dim = 45\n",
        "pca = PCA(n_components=dim, svd_solver='randomized', random_state=42)\n",
        "pca.fit(trainval_x_flat)\n",
        "\n",
        "trainval_x_flat = pca.transform(trainval_x_flat)"
      ],
      "execution_count": null,
      "outputs": []
    },
    {
      "cell_type": "code",
      "metadata": {
        "id": "t9deue5fura9"
      },
      "source": [
        "#The array is 2-D but the neural network needs 3-D array so converting the data int correct format\n",
        "trainval_x_flat = [[x] for x in trainval_x_flat]"
      ],
      "execution_count": null,
      "outputs": []
    },
    {
      "cell_type": "code",
      "metadata": {
        "colab": {
          "base_uri": "https://localhost:8080/"
        },
        "id": "64sPS_ROhVE8",
        "outputId": "08aee615-8396-4bc1-92a7-43db6f83f1a5"
      },
      "source": [
        "#Converting the 3-D array to numpy array\n",
        "trainval_x_flat = np.array(trainval_x_flat)\n",
        "trainval_x_flat, trainval_x_flat.shape"
      ],
      "execution_count": null,
      "outputs": [
        {
          "output_type": "execute_result",
          "data": {
            "text/plain": [
              "(array([[[ 1.23932495e+02, -3.12674011e+02, -2.45175667e+01, ...,\n",
              "          -4.05510025e+01, -8.38106995e+01, -1.28073242e+02]],\n",
              " \n",
              "        [[ 1.01171838e+03, -2.94858032e+02,  5.96335571e+02, ...,\n",
              "           6.88298721e+01, -1.65280914e+02, -1.09642448e+01]],\n",
              " \n",
              "        [[-5.18496323e+01,  3.92173462e+02, -1.88506744e+02, ...,\n",
              "           9.55388489e+01, -9.01542664e-01, -2.29326202e+02]],\n",
              " \n",
              "        ...,\n",
              " \n",
              "        [[-1.78053543e+02,  1.60079193e+02, -2.57616669e+02, ...,\n",
              "          -2.40360519e+02, -2.62544785e+01, -2.66041222e+01]],\n",
              " \n",
              "        [[ 1.30606049e+02, -5.59315491e+00,  5.13859009e+02, ...,\n",
              "          -1.92991211e+02, -9.39302750e+01, -9.16066360e+01]],\n",
              " \n",
              "        [[-1.73435974e+02, -2.47198486e+01,  5.56018066e+02, ...,\n",
              "           8.25288315e+01, -6.81208420e+01,  9.06349869e+01]]],\n",
              "       dtype=float32), (60000, 1, 45))"
            ]
          },
          "metadata": {
            "tags": []
          },
          "execution_count": 12
        }
      ]
    },
    {
      "cell_type": "code",
      "metadata": {
        "colab": {
          "base_uri": "https://localhost:8080/"
        },
        "id": "3nszjHENrTrn",
        "outputId": "15a228af-6a5d-4d2c-b10c-d8584440b995"
      },
      "source": [
        "#Creating a validation set from the train dataset\n",
        "from sklearn.model_selection import train_test_split\n",
        "train_x, val_x, train_y, val_y = train_test_split(trainval_x_flat, trainval_y, test_size = 0.2, random_state = 42)\n",
        "train_x.shape, val_x.shape, test_x.shape, train_y.shape, val_y.shape, test_y.shape"
      ],
      "execution_count": null,
      "outputs": [
        {
          "output_type": "execute_result",
          "data": {
            "text/plain": [
              "((48000, 1, 45), (12000, 1, 45), (10000, 28, 28), (48000,), (12000,), (10000,))"
            ]
          },
          "metadata": {
            "tags": []
          },
          "execution_count": 13
        }
      ]
    },
    {
      "cell_type": "markdown",
      "metadata": {
        "id": "sp7RmU_FjQ5p"
      },
      "source": [
        "###**Model Training**"
      ]
    },
    {
      "cell_type": "code",
      "metadata": {
        "id": "hnUYWVvSGCQN",
        "colab": {
          "base_uri": "https://localhost:8080/"
        },
        "outputId": "1197d7ed-acf0-42f3-e1cf-f61bf8817974"
      },
      "source": [
        "#Creating a neural network model with dense layers\n",
        "nn_model = tensorflow.keras.Sequential([\n",
        "    tensorflow.keras.layers.Flatten(input_shape = (1, dim)),\n",
        "    tensorflow.keras.layers.Dense(128, activation='relu'),\n",
        "    tensorflow.keras.layers.Dense(64, activation='relu'),\n",
        "    tensorflow.keras.layers.Dense(32, activation='relu'),\n",
        "    tensorflow.keras.layers.Dense(10)\n",
        "])\n",
        "nn_model.summary()"
      ],
      "execution_count": null,
      "outputs": [
        {
          "output_type": "stream",
          "text": [
            "Model: \"sequential\"\n",
            "_________________________________________________________________\n",
            "Layer (type)                 Output Shape              Param #   \n",
            "=================================================================\n",
            "flatten (Flatten)            (None, 45)                0         \n",
            "_________________________________________________________________\n",
            "dense (Dense)                (None, 128)               5888      \n",
            "_________________________________________________________________\n",
            "dense_1 (Dense)              (None, 64)                8256      \n",
            "_________________________________________________________________\n",
            "dense_2 (Dense)              (None, 32)                2080      \n",
            "_________________________________________________________________\n",
            "dense_3 (Dense)              (None, 10)                330       \n",
            "=================================================================\n",
            "Total params: 16,554\n",
            "Trainable params: 16,554\n",
            "Non-trainable params: 0\n",
            "_________________________________________________________________\n"
          ],
          "name": "stdout"
        }
      ]
    },
    {
      "cell_type": "code",
      "metadata": {
        "colab": {
          "base_uri": "https://localhost:8080/",
          "height": 564
        },
        "id": "Yz4c5tjhFxuy",
        "outputId": "4de740a8-998b-45b8-8131-55b2dd77418e"
      },
      "source": [
        "#Architecture of NN Model\n",
        "tensorflow.keras.utils.plot_model(nn_model)"
      ],
      "execution_count": null,
      "outputs": [
        {
          "output_type": "execute_result",
          "data": {
            "image/png": "[encoded data removed]",
            "text/plain": [
              "<IPython.core.display.Image object>"
            ]
          },
          "metadata": {
            "tags": []
          },
          "execution_count": 15
        }
      ]
    },
    {
      "cell_type": "code",
      "metadata": {
        "colab": {
          "base_uri": "https://localhost:8080/"
        },
        "id": "9OlEsL7RGCNo",
        "outputId": "b1ccf27d-020c-46a6-89ec-3746ff04f00c"
      },
      "source": [
        "#Compiling the model\n",
        "nn_model.compile(optimizer='adam', loss = tensorflow.keras.losses.SparseCategoricalCrossentropy(from_logits=True), metrics='accuracy')\n",
        "nn_model.summary()"
      ],
      "execution_count": null,
      "outputs": [
        {
          "output_type": "stream",
          "text": [
            "Model: \"sequential\"\n",
            "_________________________________________________________________\n",
            "Layer (type)                 Output Shape              Param #   \n",
            "=================================================================\n",
            "flatten (Flatten)            (None, 45)                0         \n",
            "_________________________________________________________________\n",
            "dense (Dense)                (None, 128)               5888      \n",
            "_________________________________________________________________\n",
            "dense_1 (Dense)              (None, 64)                8256      \n",
            "_________________________________________________________________\n",
            "dense_2 (Dense)              (None, 32)                2080      \n",
            "_________________________________________________________________\n",
            "dense_3 (Dense)              (None, 10)                330       \n",
            "=================================================================\n",
            "Total params: 16,554\n",
            "Trainable params: 16,554\n",
            "Non-trainable params: 0\n",
            "_________________________________________________________________\n"
          ],
          "name": "stdout"
        }
      ]
    },
    {
      "cell_type": "code",
      "metadata": {
        "colab": {
          "base_uri": "https://localhost:8080/"
        },
        "id": "ivutvKmzJknV",
        "outputId": "8c10c2ec-8d04-47d6-c8ce-4f63da3e7859"
      },
      "source": [
        "#Fitting the model over the data with early stopping and storing the loss and accuracy values\n",
        "history = nn_model.fit(train_x, train_y,\n",
        "                       epochs=100, \n",
        "                       validation_data=(val_x, val_y), \n",
        "                       callbacks = [EarlyStopping(monitor='val_loss', mode='min', verbose=1, patience=5)])"
      ],
      "execution_count": null,
      "outputs": [
        {
          "output_type": "stream",
          "text": [
            "Epoch 1/100\n",
            "1500/1500 [==============================] - 4s 2ms/step - loss: 7.2959 - accuracy: 0.6578 - val_loss: 0.6023 - val_accuracy: 0.8492\n",
            "Epoch 2/100\n",
            "1500/1500 [==============================] - 3s 2ms/step - loss: 0.4751 - accuracy: 0.8794 - val_loss: 0.3537 - val_accuracy: 0.9134\n",
            "Epoch 3/100\n",
            "1500/1500 [==============================] - 3s 2ms/step - loss: 0.2790 - accuracy: 0.9226 - val_loss: 0.2856 - val_accuracy: 0.9293\n",
            "Epoch 4/100\n",
            "1500/1500 [==============================] - 3s 2ms/step - loss: 0.2097 - accuracy: 0.9422 - val_loss: 0.2067 - val_accuracy: 0.9471\n",
            "Epoch 5/100\n",
            "1500/1500 [==============================] - 3s 2ms/step - loss: 0.1588 - accuracy: 0.9550 - val_loss: 0.1778 - val_accuracy: 0.9546\n",
            "Epoch 6/100\n",
            "1500/1500 [==============================] - 3s 2ms/step - loss: 0.1305 - accuracy: 0.9620 - val_loss: 0.1771 - val_accuracy: 0.9558\n",
            "Epoch 7/100\n",
            "1500/1500 [==============================] - 3s 2ms/step - loss: 0.1089 - accuracy: 0.9686 - val_loss: 0.1519 - val_accuracy: 0.9607\n",
            "Epoch 8/100\n",
            "1500/1500 [==============================] - 3s 2ms/step - loss: 0.0987 - accuracy: 0.9712 - val_loss: 0.1625 - val_accuracy: 0.9602\n",
            "Epoch 9/100\n",
            "1500/1500 [==============================] - 3s 2ms/step - loss: 0.0913 - accuracy: 0.9744 - val_loss: 0.1308 - val_accuracy: 0.9667\n",
            "Epoch 10/100\n",
            "1500/1500 [==============================] - 3s 2ms/step - loss: 0.0803 - accuracy: 0.9766 - val_loss: 0.1365 - val_accuracy: 0.9654\n",
            "Epoch 11/100\n",
            "1500/1500 [==============================] - 3s 2ms/step - loss: 0.0708 - accuracy: 0.9793 - val_loss: 0.1426 - val_accuracy: 0.9645\n",
            "Epoch 12/100\n",
            "1500/1500 [==============================] - 3s 2ms/step - loss: 0.0750 - accuracy: 0.9785 - val_loss: 0.1497 - val_accuracy: 0.9646\n",
            "Epoch 13/100\n",
            "1500/1500 [==============================] - 3s 2ms/step - loss: 0.0713 - accuracy: 0.9794 - val_loss: 0.1505 - val_accuracy: 0.9675\n",
            "Epoch 14/100\n",
            "1500/1500 [==============================] - 3s 2ms/step - loss: 0.0611 - accuracy: 0.9821 - val_loss: 0.1661 - val_accuracy: 0.9635\n",
            "Epoch 00014: early stopping\n"
          ],
          "name": "stdout"
        }
      ]
    },
    {
      "cell_type": "code",
      "metadata": {
        "colab": {
          "base_uri": "https://localhost:8080/"
        },
        "id": "rvq7t09fLLyl",
        "outputId": "77ddf7f9-79ed-4a64-bebb-e09522ec9648"
      },
      "source": [
        "#Printing the values loss and accuracy values of train and validation dataset\n",
        "history.history"
      ],
      "execution_count": null,
      "outputs": [
        {
          "output_type": "execute_result",
          "data": {
            "text/plain": [
              "{'accuracy': [0.7504166960716248,\n",
              "  0.8884166479110718,\n",
              "  0.9249791502952576,\n",
              "  0.9428541660308838,\n",
              "  0.9540833234786987,\n",
              "  0.961187481880188,\n",
              "  0.9668333530426025,\n",
              "  0.9703541398048401,\n",
              "  0.9728541374206543,\n",
              "  0.9746666550636292,\n",
              "  0.9775833487510681,\n",
              "  0.9767083525657654,\n",
              "  0.9785208106040955,\n",
              "  0.979895830154419],\n",
              " 'loss': [2.38405179977417,\n",
              "  0.4303514361381531,\n",
              "  0.27723658084869385,\n",
              "  0.2063763588666916,\n",
              "  0.15984372794628143,\n",
              "  0.1333034336566925,\n",
              "  0.1192716583609581,\n",
              "  0.10407619923353195,\n",
              "  0.09707663953304291,\n",
              "  0.08736298978328705,\n",
              "  0.07923689484596252,\n",
              "  0.0817452073097229,\n",
              "  0.07470669597387314,\n",
              "  0.07020018249750137],\n",
              " 'val_accuracy': [0.8491666913032532,\n",
              "  0.9134166836738586,\n",
              "  0.9292500019073486,\n",
              "  0.9470833539962769,\n",
              "  0.9545833468437195,\n",
              "  0.9558333158493042,\n",
              "  0.9607499837875366,\n",
              "  0.9601666927337646,\n",
              "  0.9666666388511658,\n",
              "  0.965416669845581,\n",
              "  0.9645000100135803,\n",
              "  0.9645833373069763,\n",
              "  0.9674999713897705,\n",
              "  0.9635000228881836],\n",
              " 'val_loss': [0.6023250222206116,\n",
              "  0.35373416543006897,\n",
              "  0.28564199805259705,\n",
              "  0.20668362081050873,\n",
              "  0.1777893602848053,\n",
              "  0.17712357640266418,\n",
              "  0.15189701318740845,\n",
              "  0.16254009306430817,\n",
              "  0.1307573914527893,\n",
              "  0.13652370870113373,\n",
              "  0.14257167279720306,\n",
              "  0.14965738356113434,\n",
              "  0.15054823458194733,\n",
              "  0.16606147587299347]}"
            ]
          },
          "metadata": {
            "tags": []
          },
          "execution_count": 18
        }
      ]
    },
    {
      "cell_type": "code",
      "metadata": {
        "colab": {
          "base_uri": "https://localhost:8080/",
          "height": 877
        },
        "id": "_2ZfNbiQJkhq",
        "outputId": "2800fb75-5b0f-4d1e-c73f-803de00b42ac"
      },
      "source": [
        "#Plotting the graph for train loss and validation loss\n",
        "plt.figure(figsize=(20, 15))\n",
        "plt.plot(history.history['loss'], 'k-', label = 'Loss function for train dataset')\n",
        "plt.plot(history.history['val_loss'], 'r-', label = 'Loss function for validation dataset')\n",
        "plt.xlabel('Epochs')\n",
        "plt.ylabel('Loss')\n",
        "plt.legend()\n",
        "plt.show()"
      ],
      "execution_count": null,
      "outputs": [
        {
          "output_type": "display_data",
          "data": {
            "image/png": "[encoded data removed]",
            "text/plain": [
              "<Figure size 1440x1080 with 1 Axes>"
            ]
          },
          "metadata": {
            "tags": [],
            "needs_background": "light"
          }
        }
      ]
    },
    {
      "cell_type": "code",
      "metadata": {
        "id": "S7Iw6DIivxz6"
      },
      "source": [
        ""
      ],
      "execution_count": null,
      "outputs": []
    },
    {
      "cell_type": "code",
      "metadata": {
        "id": "BuUwvQsTvx6-"
      },
      "source": [
        "#Cnverting test images to long vector format\n",
        "test_x_flat = []\n",
        "for i in range(len(test_x)):\n",
        "  test_x_flat.append([y for x in test_x[i] for y in x])"
      ],
      "execution_count": null,
      "outputs": []
    },
    {
      "cell_type": "code",
      "metadata": {
        "colab": {
          "base_uri": "https://localhost:8080/"
        },
        "id": "-ZCX7mVFvx6_",
        "outputId": "76ed31f8-d249-49dc-8950-53a53f17db95"
      },
      "source": [
        "#Converting list into numpy array\n",
        "test_x_flat = np.array(test_x_flat)\n",
        "test_x_flat.shape"
      ],
      "execution_count": null,
      "outputs": [
        {
          "output_type": "execute_result",
          "data": {
            "text/plain": [
              "(10000, 784)"
            ]
          },
          "metadata": {
            "tags": []
          },
          "execution_count": 21
        }
      ]
    },
    {
      "cell_type": "code",
      "metadata": {
        "colab": {
          "base_uri": "https://localhost:8080/"
        },
        "id": "YWfxwogAvjPZ",
        "outputId": "9ca9b801-7cb5-4a14-c6aa-200565708452"
      },
      "source": [
        "#Applying PCA transformation to the test images\n",
        "test_x_flat = pca.transform(test_x_flat)\n",
        "test_x_flat.shape"
      ],
      "execution_count": null,
      "outputs": [
        {
          "output_type": "execute_result",
          "data": {
            "text/plain": [
              "(10000, 45)"
            ]
          },
          "metadata": {
            "tags": []
          },
          "execution_count": 22
        }
      ]
    },
    {
      "cell_type": "code",
      "metadata": {
        "id": "AryN_cJ8wLO_"
      },
      "source": [
        "#Converting test data to 3-D list\n",
        "test_x_flat = [[x] for x in test_x_flat]"
      ],
      "execution_count": null,
      "outputs": []
    },
    {
      "cell_type": "code",
      "metadata": {
        "colab": {
          "base_uri": "https://localhost:8080/"
        },
        "id": "R58jZqz6wLO_",
        "outputId": "72ef0f28-eba6-48eb-87b2-8a49ed0ce928"
      },
      "source": [
        "#Converting the list to numpy array format\n",
        "test_x_flat = np.array(test_x_flat)\n",
        "test_x_flat, test_x_flat.shape"
      ],
      "execution_count": null,
      "outputs": [
        {
          "output_type": "execute_result",
          "data": {
            "text/plain": [
              "(array([[[-3.32271149e+02,  7.47799194e+02, -4.28452873e+01, ...,\n",
              "           1.07641205e+02, -3.27936363e+01, -1.63857559e+02]],\n",
              " \n",
              "        [[ 2.06968994e+01, -9.55584106e+02, -1.52716034e+02, ...,\n",
              "          -2.18177643e+02,  1.41745056e+02,  6.07857513e+00]],\n",
              " \n",
              "        [[-9.46026794e+02, -4.30843262e+02,  6.61762085e+01, ...,\n",
              "           7.64191437e+01, -8.36230164e+01,  3.59896545e+01]],\n",
              " \n",
              "        ...,\n",
              " \n",
              "        [[-2.70187622e+02,  5.96869324e+02,  3.55110626e+02, ...,\n",
              "          -1.67591095e-01, -3.38025589e+01,  2.41439095e+01]],\n",
              " \n",
              "        [[-3.14027222e+02, -1.08604752e+02,  6.42837830e+02, ...,\n",
              "          -7.01860237e+00,  8.46357956e+01,  5.07471809e+01]],\n",
              " \n",
              "        [[ 1.04238965e+03, -9.05166779e+01,  7.06122131e+02, ...,\n",
              "          -1.14498367e+02, -1.70312851e+02, -1.96592117e+02]]],\n",
              "       dtype=float32), (10000, 1, 45))"
            ]
          },
          "metadata": {
            "tags": []
          },
          "execution_count": 24
        }
      ]
    },
    {
      "cell_type": "code",
      "metadata": {
        "colab": {
          "base_uri": "https://localhost:8080/"
        },
        "id": "OFl3u9ndJkkN",
        "outputId": "f3876920-f1f0-4e66-86ff-059b47858c67"
      },
      "source": [
        "#Evaluating the actual model\n",
        "test_loss, test_accuracy = nn_model.evaluate(test_x_flat, test_y, verbose=2)\n",
        "test_loss, test_accuracy"
      ],
      "execution_count": null,
      "outputs": [
        {
          "output_type": "stream",
          "text": [
            "313/313 - 1s - loss: 0.1514 - accuracy: 0.9669\n"
          ],
          "name": "stdout"
        },
        {
          "output_type": "execute_result",
          "data": {
            "text/plain": [
              "(0.15140599012374878, 0.9668999910354614)"
            ]
          },
          "metadata": {
            "tags": []
          },
          "execution_count": 25
        }
      ]
    },
    {
      "cell_type": "markdown",
      "metadata": {
        "id": "DPA-9nh0jNbQ"
      },
      "source": [
        "###**Making predictions and getting metric values**"
      ]
    },
    {
      "cell_type": "code",
      "metadata": {
        "colab": {
          "base_uri": "https://localhost:8080/"
        },
        "id": "GJ6S3fKBtWZk",
        "outputId": "11fc268a-204d-4fb5-c055-c8901f6b357e"
      },
      "source": [
        "#Making predictions on test dataset\n",
        "predictions = nn_model.predict(test_x_flat)\n",
        "pred = np.argmax(predictions, axis=1)\n",
        "pred"
      ],
      "execution_count": null,
      "outputs": [
        {
          "output_type": "execute_result",
          "data": {
            "text/plain": [
              "array([7, 2, 1, ..., 4, 5, 6])"
            ]
          },
          "metadata": {
            "tags": []
          },
          "execution_count": 26
        }
      ]
    },
    {
      "cell_type": "code",
      "metadata": {
        "colab": {
          "base_uri": "https://localhost:8080/"
        },
        "id": "WGtJe_zRYoqY",
        "outputId": "b62a39bd-2191-4121-ce28-1d4761bf54b1"
      },
      "source": [
        "#Create confusion matrix for Custom CNN Model\n",
        "from sklearn.metrics import confusion_matrix\n",
        "nn_cm = confusion_matrix(test_y, pred)\n",
        "nn_cm"
      ],
      "execution_count": null,
      "outputs": [
        {
          "output_type": "execute_result",
          "data": {
            "text/plain": [
              "array([[ 962,    0,    0,    0,    1,    2,    8,    1,    5,    1],\n",
              "       [   0, 1127,    4,    1,    0,    0,    3,    0,    0,    0],\n",
              "       [   5,    0, 1011,    2,    0,    0,    3,    7,    3,    1],\n",
              "       [   0,    0,   20,  955,    0,   13,    0,    9,    8,    5],\n",
              "       [   0,    1,    0,    0,  946,    0,    9,    0,    0,   26],\n",
              "       [   3,    1,    0,    3,    1,  865,    3,    0,    6,   10],\n",
              "       [   3,    3,    3,    0,    1,    7,  938,    0,    2,    1],\n",
              "       [   2,   10,   21,    1,    2,    2,    0,  976,    5,    9],\n",
              "       [   2,    3,   17,    3,    3,    3,   13,    1,  921,    8],\n",
              "       [   2,    3,    1,    3,   11,    8,    2,    6,    5,  968]])"
            ]
          },
          "metadata": {
            "tags": []
          },
          "execution_count": 27
        }
      ]
    },
    {
      "cell_type": "code",
      "metadata": {
        "id": "TjhgyizWrAQm",
        "colab": {
          "base_uri": "https://localhost:8080/",
          "height": 880
        },
        "outputId": "d8c84a36-3a34-4901-a3b8-7ecad1afc25e"
      },
      "source": [
        "#Creating a confusion matrix for the predicted output\n",
        "import seaborn as sns\n",
        "plt.figure(figsize=(20, 15))\n",
        "axis = plt.subplot(111)\n",
        "sns.heatmap(nn_cm, ax = axis, cmap = 'Blues', annot = True, square = False, fmt='')"
      ],
      "execution_count": null,
      "outputs": [
        {
          "output_type": "execute_result",
          "data": {
            "text/plain": [
              "<matplotlib.axes._subplots.AxesSubplot at 0x7fb319e35210>"
            ]
          },
          "metadata": {
            "tags": []
          },
          "execution_count": 28
        },
        {
          "output_type": "display_data",
          "data": {
            "image/png": "[encoded data removed]",
            "text/plain": [
              "<Figure size 1440x1080 with 2 Axes>"
            ]
          },
          "metadata": {
            "tags": [],
            "needs_background": "light"
          }
        }
      ]
    },
    {
      "cell_type": "code",
      "metadata": {
        "id": "TJFM-yVerAQm",
        "colab": {
          "base_uri": "https://localhost:8080/"
        },
        "outputId": "acfdb376-38f1-47c6-f17b-97bffad455ff"
      },
      "source": [
        "#Calculating accuracy based in the confusion matrix for Custom CNN Model\n",
        "#Accuracy is calculated by ratio of all true predictions and total number of images \n",
        "#Trace function is used to calculate sum of all diagonal value (True predictions)\n",
        "nn_accuracy = nn_cm.trace()/nn_cm.sum()\n",
        "print(\"Accuracy for NN model : \", nn_accuracy)"
      ],
      "execution_count": null,
      "outputs": [
        {
          "output_type": "stream",
          "text": [
            "Accuracy for NN model :  0.9669\n"
          ],
          "name": "stdout"
        }
      ]
    },
    {
      "cell_type": "code",
      "metadata": {
        "id": "LgitPQ0UrAQm",
        "colab": {
          "base_uri": "https://localhost:8080/"
        },
        "outputId": "d92bcf53-d571-4e11-8328-2d3fe11ce637"
      },
      "source": [
        "#Getting F1 micro score for Custom CNN Model\n",
        "from sklearn.metrics import f1_score\n",
        "nn_f1 = f1_score(test_y, pred, average = 'micro')\n",
        "print(\"F1 score (micro) for NN model : \", nn_f1)"
      ],
      "execution_count": null,
      "outputs": [
        {
          "output_type": "stream",
          "text": [
            "F1 score (micro) for NN model :  0.9669\n"
          ],
          "name": "stdout"
        }
      ]
    },
    {
      "cell_type": "code",
      "metadata": {
        "id": "kxTqeEP_rAQm",
        "colab": {
          "base_uri": "https://localhost:8080/"
        },
        "outputId": "e8b38152-3a5e-472b-86d5-21ac178a424b"
      },
      "source": [
        "#Getting F1 macro score for Custom CNN Model\n",
        "from sklearn.metrics import f1_score\n",
        "nn_f1_ma = f1_score(test_y, pred, average = 'macro')\n",
        "print(\"F1 score (macro) for NN model : \", nn_f1_ma)"
      ],
      "execution_count": null,
      "outputs": [
        {
          "output_type": "stream",
          "text": [
            "F1 score (macro) for NN model :  0.9666836918215507\n"
          ],
          "name": "stdout"
        }
      ]
    },
    {
      "cell_type": "code",
      "metadata": {
        "colab": {
          "base_uri": "https://localhost:8080/"
        },
        "id": "hxc5UluGZf7i",
        "outputId": "b0534ec3-88ed-4339-b2fb-dc052da0b8a8"
      },
      "source": [
        "#Converting hte test case labels to one hot vectors\n",
        "from tensorflow.keras.utils import to_categorical\n",
        "test_y_preds = to_categorical(test_y)\n",
        "test_y_preds"
      ],
      "execution_count": null,
      "outputs": [
        {
          "output_type": "execute_result",
          "data": {
            "text/plain": [
              "array([[0., 0., 0., ..., 1., 0., 0.],\n",
              "       [0., 0., 1., ..., 0., 0., 0.],\n",
              "       [0., 1., 0., ..., 0., 0., 0.],\n",
              "       ...,\n",
              "       [0., 0., 0., ..., 0., 0., 0.],\n",
              "       [0., 0., 0., ..., 0., 0., 0.],\n",
              "       [0., 0., 0., ..., 0., 0., 0.]], dtype=float32)"
            ]
          },
          "metadata": {
            "tags": []
          },
          "execution_count": 32
        }
      ]
    },
    {
      "cell_type": "code",
      "metadata": {
        "colab": {
          "base_uri": "https://localhost:8080/"
        },
        "id": "zAzU6-rB7cOI",
        "outputId": "bf7a26da-62ed-43f6-bab2-62eb58bbdff6"
      },
      "source": [
        "#Converting the model predictions of probability to one hot vectors\n",
        "from tensorflow.keras.utils import to_categorical\n",
        "pred_categorical = to_categorical(pred)\n",
        "pred_categorical"
      ],
      "execution_count": null,
      "outputs": [
        {
          "output_type": "execute_result",
          "data": {
            "text/plain": [
              "array([[0., 0., 0., ..., 1., 0., 0.],\n",
              "       [0., 0., 1., ..., 0., 0., 0.],\n",
              "       [0., 1., 0., ..., 0., 0., 0.],\n",
              "       ...,\n",
              "       [0., 0., 0., ..., 0., 0., 0.],\n",
              "       [0., 0., 0., ..., 0., 0., 0.],\n",
              "       [0., 0., 0., ..., 0., 0., 0.]], dtype=float32)"
            ]
          },
          "metadata": {
            "tags": []
          },
          "execution_count": 33
        }
      ]
    },
    {
      "cell_type": "code",
      "metadata": {
        "id": "LNB5EEHgrAQn",
        "colab": {
          "base_uri": "https://localhost:8080/"
        },
        "outputId": "f0577922-abc1-4d4f-92ba-8c045bd788ed"
      },
      "source": [
        "# Calculating AUC Score using one hot vectors of predictions and actual cases\n",
        "from sklearn.metrics import roc_auc_score\n",
        "nn_auc = roc_auc_score(test_y_preds, pred_categorical,multi_class='ovr', average = 'macro')\n",
        "print(\"AUC Score of NN Model:\",nn_auc)"
      ],
      "execution_count": null,
      "outputs": [
        {
          "output_type": "stream",
          "text": [
            "AUC Score of NN Model: 0.9814785891299573\n"
          ],
          "name": "stdout"
        }
      ]
    },
    {
      "cell_type": "code",
      "metadata": {
        "colab": {
          "base_uri": "https://localhost:8080/",
          "height": 254
        },
        "id": "9Z_ljK-r617G",
        "outputId": "bae6d5a2-2b98-42d7-dfbf-e0743161def2"
      },
      "source": [
        "base_accuracies = pd.read_csv('BaseTable.csv')\n",
        "pd.set_option('display.max_colwidth', None)\n",
        "base_accuracies"
      ],
      "execution_count": null,
      "outputs": [
        {
          "output_type": "execute_result",
          "data": {
            "text/html": [
              "<div>\n",
              "<style scoped>\n",
              "    .dataframe tbody tr th:only-of-type {\n",
              "        vertical-align: middle;\n",
              "    }\n",
              "\n",
              "    .dataframe tbody tr th {\n",
              "        vertical-align: top;\n",
              "    }\n",
              "\n",
              "    .dataframe thead th {\n",
              "        text-align: right;\n",
              "    }\n",
              "</style>\n",
              "<table border=\"1\" class=\"dataframe\">\n",
              "  <thead>\n",
              "    <tr style=\"text-align: right;\">\n",
              "      <th></th>\n",
              "      <th>Sr. No.</th>\n",
              "      <th>Model</th>\n",
              "      <th>Accuracy based on confusion matrix</th>\n",
              "      <th>F1 Score (micro)</th>\n",
              "      <th>F1 Score (macro)</th>\n",
              "      <th>AUC Score</th>\n",
              "    </tr>\n",
              "  </thead>\n",
              "  <tbody>\n",
              "    <tr>\n",
              "      <th>0</th>\n",
              "      <td>1</td>\n",
              "      <td>Baseline model trained with input shape of 28*28 flattened at the beginning of the model</td>\n",
              "      <td>0.9682</td>\n",
              "      <td>0.9682</td>\n",
              "      <td>0.967887</td>\n",
              "      <td>0.982254</td>\n",
              "    </tr>\n",
              "    <tr>\n",
              "      <th>1</th>\n",
              "      <td>2</td>\n",
              "      <td>Baseline model trained with flatenned input and reduced dimensionality (45 dimensions)</td>\n",
              "      <td>0.9669</td>\n",
              "      <td>0.9669</td>\n",
              "      <td>0.966684</td>\n",
              "      <td>0.981479</td>\n",
              "    </tr>\n",
              "    <tr>\n",
              "      <th>2</th>\n",
              "      <td>3</td>\n",
              "      <td>Baseline model trained with flatenned input and reduced dimensionality (10 dimensions)</td>\n",
              "      <td>0.9191</td>\n",
              "      <td>0.9191</td>\n",
              "      <td>0.917696</td>\n",
              "      <td>0.954331</td>\n",
              "    </tr>\n",
              "    <tr>\n",
              "      <th>3</th>\n",
              "      <td>4</td>\n",
              "      <td>Baseline model trained with flatenned input and reduced dimensionality (20 dimensions)</td>\n",
              "      <td>0.9637</td>\n",
              "      <td>0.9637</td>\n",
              "      <td>0.963499</td>\n",
              "      <td>0.979652</td>\n",
              "    </tr>\n",
              "    <tr>\n",
              "      <th>4</th>\n",
              "      <td>5</td>\n",
              "      <td>Baseline model trained with flatenned input and reduced dimensionality (25 dimensions)</td>\n",
              "      <td>0.9639</td>\n",
              "      <td>0.9639</td>\n",
              "      <td>0.963583</td>\n",
              "      <td>0.979752</td>\n",
              "    </tr>\n",
              "    <tr>\n",
              "      <th>5</th>\n",
              "      <td>6</td>\n",
              "      <td>Baseline model trained with flatenned input and reduced dimensionality (40 dimensions)</td>\n",
              "      <td>0.9651</td>\n",
              "      <td>0.9651</td>\n",
              "      <td>0.964961</td>\n",
              "      <td>0.980483</td>\n",
              "    </tr>\n",
              "    <tr>\n",
              "      <th>6</th>\n",
              "      <td>7</td>\n",
              "      <td>Baseline model trained with flatenned input and reduced dimensionality (50 dimensions)</td>\n",
              "      <td>0.9668</td>\n",
              "      <td>0.9668</td>\n",
              "      <td>0.966460</td>\n",
              "      <td>0.981330</td>\n",
              "    </tr>\n",
              "  </tbody>\n",
              "</table>\n",
              "</div>"
            ],
            "text/plain": [
              "   Sr. No.  ... AUC Score\n",
              "0        1  ...  0.982254\n",
              "1        2  ...  0.981479\n",
              "2        3  ...  0.954331\n",
              "3        4  ...  0.979652\n",
              "4        5  ...  0.979752\n",
              "5        6  ...  0.980483\n",
              "6        7  ...  0.981330\n",
              "\n",
              "[7 rows x 6 columns]"
            ]
          },
          "metadata": {
            "tags": []
          },
          "execution_count": 39
        }
      ]
    },
    {
      "cell_type": "code",
      "metadata": {
        "id": "iwuzwMRGoUem"
      },
      "source": [
        ""
      ],
      "execution_count": null,
      "outputs": []
    }
  ]
}